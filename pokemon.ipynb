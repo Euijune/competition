{
  "nbformat": 4,
  "nbformat_minor": 0,
  "metadata": {
    "accelerator": "GPU",
    "colab": {
      "name": "pokemon.ipynb",
      "provenance": [],
      "collapsed_sections": [],
      "mount_file_id": "1Tlngw5_5xy5ByEvSR3OGdBm0T45w7cZX",
      "authorship_tag": "ABX9TyOzeVoLKUnZU1u2HB3PjZYA",
      "include_colab_link": true
    },
    "kernelspec": {
      "display_name": "Python 3",
      "name": "python3"
    },
    "language_info": {
      "name": "python"
    }
  },
  "cells": [
    {
      "cell_type": "markdown",
      "metadata": {
        "id": "view-in-github",
        "colab_type": "text"
      },
      "source": [
        "<a href=\"https://colab.research.google.com/github/Euijune/competition/blob/main/pokemon.ipynb\" target=\"_parent\"><img src=\"https://colab.research.google.com/assets/colab-badge.svg\" alt=\"Open In Colab\"/></a>"
      ]
    },
    {
      "cell_type": "markdown",
      "metadata": {
        "id": "aYA_3O0B_TYw"
      },
      "source": [
        "# **Import**\n",
        "\n"
      ]
    },
    {
      "cell_type": "code",
      "metadata": {
        "id": "rF5GKKNl7OOl"
      },
      "source": [
        "import torch\n",
        "import torchvision\n",
        "from torchvision import transforms\n",
        "from torchvision import datasets\n",
        "\n",
        "from torch.utils.data import DataLoader"
      ],
      "execution_count": 21,
      "outputs": []
    },
    {
      "cell_type": "code",
      "metadata": {
        "id": "ple-nU7o8w_i"
      },
      "source": [
        "from matplotlib.pyplot import imshow\n",
        "%matplotlib inline"
      ],
      "execution_count": 22,
      "outputs": []
    },
    {
      "cell_type": "code",
      "metadata": {
        "id": "KOl1-KltBBEq"
      },
      "source": [
        "device = 'cuda' if torch.cuda.is_available() else 'cpu'\n",
        "\n",
        "# 랜덤 시드 고정\n",
        "torch.manual_seed(777)\n",
        "\n",
        "# GPU 사용 가능일 경우 랜덤 시드 고정\n",
        "if device == 'cuda':\n",
        "    torch.cuda.manual_seed_all(777)"
      ],
      "execution_count": 23,
      "outputs": []
    },
    {
      "cell_type": "code",
      "metadata": {
        "colab": {
          "base_uri": "https://localhost:8080/"
        },
        "id": "4x-jbNf8ZMFL",
        "outputId": "ebd22351-972e-4af0-d96d-df8c2ab94503"
      },
      "source": [
        "print(device)"
      ],
      "execution_count": 24,
      "outputs": [
        {
          "output_type": "stream",
          "text": [
            "cuda\n"
          ],
          "name": "stdout"
        }
      ]
    },
    {
      "cell_type": "code",
      "metadata": {
        "colab": {
          "base_uri": "https://localhost:8080/"
        },
        "id": "Blg980CmZ2_C",
        "outputId": "1cee670d-5adc-49b2-e9bf-1f34821eee1a"
      },
      "source": [
        "!nvidia-smi"
      ],
      "execution_count": 25,
      "outputs": [
        {
          "output_type": "stream",
          "text": [
            "Fri Aug 20 08:03:36 2021       \n",
            "+-----------------------------------------------------------------------------+\n",
            "| NVIDIA-SMI 470.57.02    Driver Version: 460.32.03    CUDA Version: 11.2     |\n",
            "|-------------------------------+----------------------+----------------------+\n",
            "| GPU  Name        Persistence-M| Bus-Id        Disp.A | Volatile Uncorr. ECC |\n",
            "| Fan  Temp  Perf  Pwr:Usage/Cap|         Memory-Usage | GPU-Util  Compute M. |\n",
            "|                               |                      |               MIG M. |\n",
            "|===============================+======================+======================|\n",
            "|   0  Tesla K80           Off  | 00000000:00:04.0 Off |                    0 |\n",
            "| N/A   56C    P0    58W / 149W |   2644MiB / 11441MiB |      0%      Default |\n",
            "|                               |                      |                  N/A |\n",
            "+-------------------------------+----------------------+----------------------+\n",
            "                                                                               \n",
            "+-----------------------------------------------------------------------------+\n",
            "| Processes:                                                                  |\n",
            "|  GPU   GI   CI        PID   Type   Process name                  GPU Memory |\n",
            "|        ID   ID                                                   Usage      |\n",
            "|=============================================================================|\n",
            "|  No running processes found                                                 |\n",
            "+-----------------------------------------------------------------------------+\n"
          ],
          "name": "stdout"
        }
      ]
    },
    {
      "cell_type": "code",
      "metadata": {
        "id": "fhtjzOvABPm5"
      },
      "source": [
        "# hyper parameter\n",
        "learning_rate = 0.001\n",
        "training_epochs = 40\n",
        "batch_size = 100"
      ],
      "execution_count": 26,
      "outputs": []
    },
    {
      "cell_type": "markdown",
      "metadata": {
        "id": "TIGSsvQN_K86"
      },
      "source": [
        "# **Image Resize**"
      ]
    },
    {
      "cell_type": "code",
      "metadata": {
        "id": "QAEm4hPq9FcK"
      },
      "source": [
        "# Compose안에 배치하는 순서조심\n",
        "trans = transforms.Compose([\n",
        "  transforms.Resize((64, 128)),  # (height, Width)\n",
        "  transforms.ToTensor()\n",
        "])\n",
        "\n",
        "pokemon_train = datasets.ImageFolder (root='drive/MyDrive/pokemon/train', transform=trans)\n",
        "#pokemon_test = datasets.ImageFolder (root='drive/MyDrive/pokemon/test', transform=trans)"
      ],
      "execution_count": 27,
      "outputs": []
    },
    {
      "cell_type": "code",
      "metadata": {
        "id": "-1kr3Igb860y"
      },
      "source": [
        "data_loader = DataLoader(dataset = pokemon_train,\n",
        "                         batch_size=batch_size,\n",
        "                         shuffle=True,\n",
        "                         drop_last=True)"
      ],
      "execution_count": 28,
      "outputs": []
    },
    {
      "cell_type": "code",
      "metadata": {
        "colab": {
          "base_uri": "https://localhost:8080/"
        },
        "id": "Mo_yp6hrVL9L",
        "outputId": "714e94ba-1176-4a08-9b48-338b9011b34d"
      },
      "source": [
        "total_batch = len(data_loader)\n",
        "print('총 배치의 수 : {}'.format(total_batch))\n",
        "print(len(pokemon_train.classes))   # 분류할 class의 개수"
      ],
      "execution_count": 29,
      "outputs": [
        {
          "output_type": "stream",
          "text": [
            "총 배치의 수 : 106\n",
            "151\n"
          ],
          "name": "stdout"
        }
      ]
    },
    {
      "cell_type": "markdown",
      "metadata": {
        "id": "-kbOVtQpB422"
      },
      "source": [
        "# **Model**"
      ]
    },
    {
      "cell_type": "code",
      "metadata": {
        "id": "5PpizE5E9uY2"
      },
      "source": [
        "#lr = 0.01 kaiming_uniform_ 으로 초기화 시 : cost 평균 4.9\n",
        "#lr = 0.01 kaiming_normal_ 으로 초기화 시 : cost 평균 4.9\n",
        "#lr = 0.001일때 cost avg = 0.17\n",
        "\n",
        "class CNN(torch.nn.Module):\n",
        "\n",
        "    def __init__(self):\n",
        "        super(CNN, self).__init__()\n",
        "        self.keep_prob = 0.5\n",
        "        # 첫번째층\n",
        "        # ImgIn shape  = (?, 3, 64, 128)  batch size, channel, height, width\n",
        "        #    Conv     -> (?, 32, 64, 128)\n",
        "        #    Conv     -> (?, 32, 64, 128)\n",
        "        #    Pool     -> (?, 32, 32, 64)\n",
        "        self.layer1 = torch.nn.Sequential(\n",
        "            torch.nn.Conv2d(3, 32, kernel_size=3, stride=1, padding=1),\n",
        "            torch.nn.ReLU(),\n",
        "            torch.nn.Conv2d(32, 32, kernel_size=3, stride=1, padding=1),\n",
        "            torch.nn.ReLU(),\n",
        "            torch.nn.MaxPool2d(kernel_size=2, stride=2))\n",
        "\n",
        "        # 두번째층\n",
        "        # ImgIn shape=(?, 32, 32, 64)\n",
        "        #    Conv      ->(?, 64, 32, 64)\n",
        "        #    Conv      ->(?, 128, 32, 64)\n",
        "        #    Pool      ->(?, 128, 16, 32)\n",
        "        self.layer2 = torch.nn.Sequential(\n",
        "            torch.nn.Conv2d(32, 64, kernel_size=3, stride=1, padding=1),\n",
        "            torch.nn.ReLU(),\n",
        "            torch.nn.Conv2d(64, 128, kernel_size=3, stride=1, padding=1),\n",
        "            torch.nn.ReLU(),\n",
        "            torch.nn.MaxPool2d(kernel_size=2, stride=2))\n",
        "        \n",
        "        # 세번째층\n",
        "        # ImgIn shape=(?, 128, 16, 32)\n",
        "        #    Conv      ->(?, 256, 16, 32)\n",
        "        #    Conv      ->(?, 256, 16, 32)\n",
        "        #    Pool      ->(?, 256, 8, 16)\n",
        "        self.layer3 = torch.nn.Sequential(\n",
        "            torch.nn.Conv2d(128, 256, kernel_size=3, stride=1, padding=1),\n",
        "            torch.nn.ReLU(),\n",
        "            torch.nn.Conv2d(256, 256, kernel_size=3, stride=1, padding=1),\n",
        "            torch.nn.ReLU(),\n",
        "            torch.nn.MaxPool2d(kernel_size=2, stride=2))\n",
        "\n",
        "        # 전결합층1 256 * 8 * 16 inputs -> 8192 outputs\n",
        "        self.fc1 = torch.nn.Linear(256 * 8 * 16, 8192, bias=True)\n",
        "        # 전결합층 한정으로 가중치 초기화\n",
        "        torch.nn.init.kaiming_normal_(self.fc1.weight)\n",
        "\n",
        "        self.fcLayer1 = torch.nn.Sequential(\n",
        "            self.fc1,\n",
        "            torch.nn.ReLU(),\n",
        "            torch.nn.Dropout(p=1 - self.keep_prob))\n",
        "        \n",
        "        # 전결합층2 8192 inputs -> 2048 outputs\n",
        "        self.fc2 = torch.nn.Linear(8192, 2048, bias=True)\n",
        "        torch.nn.init.kaiming_normal_(self.fc2.weight)\n",
        "\n",
        "        self.fcLayer2 = torch.nn.Sequential(\n",
        "            self.fc2,\n",
        "            torch.nn.ReLU(),\n",
        "            torch.nn.Dropout(p=1 - self.keep_prob))\n",
        "\n",
        "        # 전결합층3 2048 inputs -> 151 outputs\n",
        "        self.fc3 = torch.nn.Linear(2048, 151, bias=True)\n",
        "        torch.nn.init.kaiming_normal_(self.fc3.weight)       \n",
        "\n",
        "    def forward(self, x):\n",
        "        out = self.layer1(x)\n",
        "        out = self.layer2(out)\n",
        "        out = self.layer3(out)\n",
        "        out = out.view(out.size(0), -1)   # 전결합층을 위해서 Flatten\n",
        "        out = self.fcLayer1(out)\n",
        "        out = self.fcLayer2(out)\n",
        "        out = self.fc3(out)\n",
        "        return out"
      ],
      "execution_count": 30,
      "outputs": []
    },
    {
      "cell_type": "code",
      "metadata": {
        "id": "ionrZd-eGR09"
      },
      "source": [
        "model = CNN().to(device)"
      ],
      "execution_count": 31,
      "outputs": []
    },
    {
      "cell_type": "code",
      "metadata": {
        "id": "EJ_3K_cdGbur"
      },
      "source": [
        "criterion = torch.nn.CrossEntropyLoss().to(device)    # 비용 함수에 소프트맥스 함수 포함되어져 있음.\n",
        "optimizer = torch.optim.Adam(model.parameters(), lr=learning_rate)"
      ],
      "execution_count": 32,
      "outputs": []
    },
    {
      "cell_type": "code",
      "metadata": {
        "colab": {
          "base_uri": "https://localhost:8080/"
        },
        "id": "HoDO2r2BGsez",
        "outputId": "0d1f51e4-e182-4fc5-faec-83b82ab7868a"
      },
      "source": [
        "# 정확도도 출력이 같이되면 좋을 것 같다.\n",
        "# validation set 구축 (train에서 떼어오자)\n",
        "\n",
        "pre_cost = 10000\n",
        "for epoch in range(training_epochs):\n",
        "    avg_cost = 0\n",
        "\n",
        "    for X, Y in data_loader: # 미니 배치 단위로 꺼내온다. X는 미니 배치, Y는 레이블.\n",
        "        # image is already size of (128x64), no reshape\n",
        "        # label is not one-hot encoded\n",
        "        X = X.to(device)\n",
        "        Y = Y.to(device)\n",
        "        optimizer.zero_grad()\n",
        "        hypothesis = model(X)\n",
        "        cost = criterion(hypothesis, Y)\n",
        "        cost.backward()\n",
        "        optimizer.step()\n",
        "\n",
        "        avg_cost += cost / total_batch\n",
        "\n",
        "        correct_prediction = torch.argmax(hypothesis, 1) == Y\n",
        "        \n",
        "\n",
        "    if avg_cost < pre_cost:\n",
        "        torch.save(CNN, 'drive/MyDrive/DeepLearning_competition/pokemon_CNN/CNN.pth')\n",
        "        pre_cost = avg_cost \n",
        "    accuracy = correct_prediction.float().mean()\n",
        "    \n",
        "\n",
        "    print('[Epoch: {:>4}] cost = {:>.9},    Accuracy = {:>.9}'.format(epoch + 1, avg_cost, accuracy.item()))\n",
        "    "
      ],
      "execution_count": 34,
      "outputs": [
        {
          "output_type": "stream",
          "text": [
            "/usr/local/lib/python3.7/dist-packages/PIL/Image.py:960: UserWarning: Palette images with Transparency expressed in bytes should be converted to RGBA images\n",
            "  \"Palette images with Transparency expressed in bytes should be \"\n"
          ],
          "name": "stderr"
        },
        {
          "output_type": "stream",
          "text": [
            "[Epoch:    1] cost = 4.89993238 Accuracy = 0.05999999865889549\n",
            "[Epoch:    2] cost = 4.57308626 Accuracy = 0.14999999105930328\n",
            "[Epoch:    3] cost = 4.37740326 Accuracy = 0.10999999940395355\n",
            "[Epoch:    4] cost = 4.1921463 Accuracy = 0.14999999105930328\n",
            "[Epoch:    5] cost = 3.9913969 Accuracy = 0.09999999403953552\n",
            "[Epoch:    6] cost = 3.74804258 Accuracy = 0.12999999523162842\n",
            "[Epoch:    7] cost = 3.55630565 Accuracy = 0.17000000178813934\n",
            "[Epoch:    8] cost = 3.31720853 Accuracy = 0.22999998927116394\n",
            "[Epoch:    9] cost = 3.06053853 Accuracy = 0.26999998092651367\n",
            "[Epoch:   10] cost = 2.78587055 Accuracy = 0.3199999928474426\n",
            "[Epoch:   11] cost = 2.50251245 Accuracy = 0.3100000023841858\n",
            "[Epoch:   12] cost = 2.18536401 Accuracy = 0.3700000047683716\n",
            "[Epoch:   13] cost = 1.8947705 Accuracy = 0.5099999904632568\n",
            "[Epoch:   14] cost = 1.63890505 Accuracy = 0.6299999952316284\n",
            "[Epoch:   15] cost = 1.45018041 Accuracy = 0.5899999737739563\n",
            "[Epoch:   16] cost = 1.22881329 Accuracy = 0.7099999785423279\n",
            "[Epoch:   17] cost = 1.07827878 Accuracy = 0.7400000095367432\n",
            "[Epoch:   18] cost = 0.972681403 Accuracy = 0.7400000095367432\n",
            "[Epoch:   19] cost = 0.836876929 Accuracy = 0.7299999594688416\n",
            "[Epoch:   20] cost = 0.769996703 Accuracy = 0.85999995470047\n",
            "[Epoch:   21] cost = 0.710691214 Accuracy = 0.7999999523162842\n",
            "[Epoch:   22] cost = 0.665108502 Accuracy = 0.8799999952316284\n",
            "[Epoch:   23] cost = 0.630242169 Accuracy = 0.8799999952316284\n",
            "[Epoch:   24] cost = 0.577651441 Accuracy = 0.8799999952316284\n",
            "[Epoch:   25] cost = 0.563911974 Accuracy = 0.8399999737739563\n",
            "[Epoch:   26] cost = 0.517878175 Accuracy = 0.8799999952316284\n",
            "[Epoch:   27] cost = 0.513041377 Accuracy = 0.8799999952316284\n",
            "[Epoch:   28] cost = 0.467082441 Accuracy = 0.9199999570846558\n",
            "[Epoch:   29] cost = 0.441724867 Accuracy = 0.8299999833106995\n",
            "[Epoch:   30] cost = 0.428528726 Accuracy = 0.9199999570846558\n",
            "[Epoch:   31] cost = 0.410125166 Accuracy = 0.8799999952316284\n",
            "[Epoch:   32] cost = 0.383371472 Accuracy = 0.9300000071525574\n",
            "[Epoch:   33] cost = 0.343691289 Accuracy = 0.9599999785423279\n",
            "[Epoch:   34] cost = 0.327056915 Accuracy = 0.9300000071525574\n",
            "[Epoch:   35] cost = 0.321754247 Accuracy = 0.949999988079071\n",
            "[Epoch:   36] cost = 0.287659764 Accuracy = 0.9399999976158142\n",
            "[Epoch:   37] cost = 0.268555522 Accuracy = 0.9199999570846558\n",
            "[Epoch:   38] cost = 0.272689193 Accuracy = 0.9300000071525574\n",
            "[Epoch:   39] cost = 0.267082155 Accuracy = 0.949999988079071\n",
            "[Epoch:   40] cost = 0.251515836 Accuracy = 0.9199999570846558\n"
          ],
          "name": "stdout"
        }
      ]
    },
    {
      "cell_type": "code",
      "metadata": {
        "id": "AYkENMXXbQEX"
      },
      "source": [
        "model = torch.load('drive/MyDrive/DeepLearning_competition/pokemon_CNN/CNN.pth')"
      ],
      "execution_count": 35,
      "outputs": []
    },
    {
      "cell_type": "code",
      "metadata": {
        "id": "Ebi8VxALL-bb"
      },
      "source": [
        "# test는 custom dataset\n",
        "\n",
        "with torch.no_grad():\n",
        "    X_test = pokemon_test.test_data.view(len(pokemon_test), 3, 64, 128).float().to(device)\n",
        "    # testdata에는 label이 없다. traindata의 label을 가져와야 할듯??\n",
        "    Y_test = pokemon_test.test_labels.to(device)\n",
        "\n",
        "    prediction = model(X_test)\n",
        "    correct_prediction = torch.argmax(prediction, 1) == Y_test\n",
        "    accuracy = correct_prediction.float().mean()\n",
        "    print('Accuracy:', accuracy.item())"
      ],
      "execution_count": null,
      "outputs": []
    }
  ]
}